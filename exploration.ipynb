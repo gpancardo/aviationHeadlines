{
 "cells": [
  {
   "cell_type": "markdown",
   "id": "3e4a0f07",
   "metadata": {
    "vscode": {
     "languageId": "plaintext"
    }
   },
   "source": [
    "# Aviation Headlines Exploration 🛫🗞️🤖\n",
    "**This notebook is a first approach to the data used on the Aviation Headlines project. The data comes from two datasets: __All the News 2__ and Univeristy of California, Irvine's __News Aggregator Dataset__.**"
   ]
  },
  {
   "cell_type": "markdown",
   "id": "1da1d68c",
   "metadata": {},
   "source": [
    "## Check original data\n",
    "Before creating the unified dataset, we will do a quick overview of the information in each set in order to know what attributes are valuable and keeping track of potential new paths for the project.\n",
    "We will work with shortened datasets with only relevant entries thanks to [Hankotsu](https://github.com/gpancardo/hankotsu), a tool for data prep that reduces very large datasets."
   ]
  }
 ],
 "metadata": {
  "language_info": {
   "name": "python"
  }
 },
 "nbformat": 4,
 "nbformat_minor": 5
}
